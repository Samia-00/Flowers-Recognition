{
  "nbformat": 4,
  "nbformat_minor": 0,
  "metadata": {
    "colab": {
      "name": "DataPreprocessing.ipynb",
      "provenance": [],
      "authorship_tag": "ABX9TyMbodLeZhQlH1al2FBLIU17"
    },
    "kernelspec": {
      "name": "python3",
      "display_name": "Python 3"
    },
    "language_info": {
      "name": "python"
    },
    "accelerator": "TPU"
  },
  "cells": [
    {
      "cell_type": "markdown",
      "metadata": {
        "id": "Y2CVk3pQjlvX"
      },
      "source": [
        "# Data Preproccessing Scripts"
      ]
    },
    {
      "cell_type": "code",
      "metadata": {
        "colab": {
          "base_uri": "https://localhost:8080/"
        },
        "id": "Q7nRNNZ7jrqh",
        "outputId": "38019af8-52aa-41ce-cc49-8a70c3b535a0"
      },
      "source": [
        "!pip install split_folders"
      ],
      "execution_count": 2,
      "outputs": [
        {
          "output_type": "stream",
          "name": "stdout",
          "text": [
            "Collecting split_folders\n",
            "  Downloading split_folders-0.4.3-py3-none-any.whl (7.4 kB)\n",
            "Installing collected packages: split-folders\n",
            "Successfully installed split-folders-0.4.3\n"
          ]
        }
      ]
    },
    {
      "cell_type": "code",
      "metadata": {
        "id": "F_mqLwVnkLma"
      },
      "source": [
        "import splitfolders\n",
        "from google.colab import drive"
      ],
      "execution_count": 4,
      "outputs": []
    },
    {
      "cell_type": "code",
      "metadata": {
        "colab": {
          "base_uri": "https://localhost:8080/"
        },
        "id": "fcCRGQBdkhUZ",
        "outputId": "1c4e2185-cb94-470b-8cfb-d8a8d0e04f10"
      },
      "source": [
        "drive.mount('/content/drive')"
      ],
      "execution_count": 5,
      "outputs": [
        {
          "output_type": "stream",
          "name": "stdout",
          "text": [
            "Mounted at /content/drive\n"
          ]
        }
      ]
    },
    {
      "cell_type": "code",
      "metadata": {
        "colab": {
          "base_uri": "https://localhost:8080/"
        },
        "id": "PcbPRDKRks7i",
        "outputId": "5c0ca4a5-863b-4384-f337-1f5714aa38e7"
      },
      "source": [
        "input_folder = \"/content/drive/My Drive/flowers_dataset/input_dataset\"\n",
        "output = \"/content/drive/My Drive/flowers_dataset/processed_data\"\n",
        "splitfolders.ratio(input_folder,output,seed=42,ratio=(.6,.2,.2))"
      ],
      "execution_count": 6,
      "outputs": [
        {
          "output_type": "stream",
          "name": "stderr",
          "text": [
            "Copying files: 4317 files [14:47,  4.86 files/s]\n"
          ]
        }
      ]
    },
    {
      "cell_type": "code",
      "metadata": {
        "colab": {
          "base_uri": "https://localhost:8080/"
        },
        "id": "gPoAOaVppp05",
        "outputId": "c8bb2c9b-8624-417a-a4ed-231499e4c2ef"
      },
      "source": [
        "help(splitfolders.ratio)"
      ],
      "execution_count": 7,
      "outputs": [
        {
          "output_type": "stream",
          "name": "stdout",
          "text": [
            "Help on function ratio in module splitfolders.split:\n",
            "\n",
            "ratio(input, output='output', seed=1337, ratio=(0.8, 0.1, 0.1), group_prefix=None)\n",
            "\n"
          ]
        }
      ]
    }
  ]
}