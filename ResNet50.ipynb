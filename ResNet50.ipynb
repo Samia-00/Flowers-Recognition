{
  "nbformat": 4,
  "nbformat_minor": 0,
  "metadata": {
    "colab": {
      "name": "ResNet50.ipynb",
      "provenance": [],
      "authorship_tag": "ABX9TyP4kP3aA4m2bKWr0GKCV5Nz"
    },
    "kernelspec": {
      "name": "python3",
      "display_name": "Python 3"
    },
    "language_info": {
      "name": "python"
    }
  },
  "cells": [
    {
      "cell_type": "code",
      "metadata": {
        "id": "De_D-Ng4aXQG"
      },
      "source": [
        "from tensorflow.keras.layers import Conv2D,Flatten,Dense,MaxPool2D,BatchNormalization,GlobalAveragePooling2D\n",
        "from tensorflow.keras.applications.resnet50 import preprocess_input,decode_predictions\n",
        "from tensorflow.keras.preprocessing.image import ImageDataGenerator,load_img\n",
        "from tensorflow.keras.applications.resnet50 import ResNet50\n",
        "from tensorflow.keras.preprocessing import image\n",
        "from tensorflow.keras.models import Sequential\n",
        "from tensorflow.keras.models import Model\n",
        "import matplotlib.pyplot as plt\n",
        "import numpy as np\n",
        "from google.colab import drive"
      ],
      "execution_count": 1,
      "outputs": []
    },
    {
      "cell_type": "code",
      "metadata": {
        "colab": {
          "base_uri": "https://localhost:8080/"
        },
        "id": "RbB7HP_Hacx9",
        "outputId": "deb57adc-9074-49b6-c5a3-a7add196c2fd"
      },
      "source": [
        "drive.mount('/content/drive')"
      ],
      "execution_count": 2,
      "outputs": [
        {
          "output_type": "stream",
          "name": "stdout",
          "text": [
            "Mounted at /content/drive\n"
          ]
        }
      ]
    },
    {
      "cell_type": "code",
      "metadata": {
        "id": "arFO6mUaanNT"
      },
      "source": [
        "img_height,img_width=(224,224)\n",
        "batch_size=32\n",
        "\n",
        "train_data_dir= r\"/content/drive/My Drive/flowers_dataset/processed_data/train\"\n",
        "valid_data_dir = r\"/content/drive/My Drive/flowers_dataset/processed_data/val\"\n",
        "test_data_dir= r\"/content/drive/My Drive/flowers_dataset/processed_data/test\""
      ],
      "execution_count": 3,
      "outputs": []
    },
    {
      "cell_type": "code",
      "metadata": {
        "colab": {
          "base_uri": "https://localhost:8080/"
        },
        "id": "S6bzGc-Nar7r",
        "outputId": "2e53ef91-cf51-4621-bc15-3ff69b5f6886"
      },
      "source": [
        "train_datagen=ImageDataGenerator(preprocessing_function=preprocess_input,shear_range=0.2,zoom_range=0.2,horizontal_flip=True,validation_split=0.4)\n",
        "train_generator=train_datagen.flow_from_directory(train_data_dir,target_size=(img_height,img_width),batch_size=batch_size,class_mode='categorical',subset='training')\n",
        "valid_generator=train_datagen.flow_from_directory(valid_data_dir,target_size=(img_height,img_width),batch_size=batch_size,class_mode='categorical',subset='validation')"
      ],
      "execution_count": 4,
      "outputs": [
        {
          "output_type": "stream",
          "name": "stdout",
          "text": [
            "Found 1554 images belonging to 5 classes.\n",
            "Found 342 images belonging to 5 classes.\n"
          ]
        }
      ]
    },
    {
      "cell_type": "code",
      "metadata": {
        "colab": {
          "base_uri": "https://localhost:8080/"
        },
        "id": "jReOqx7jawIx",
        "outputId": "26f3138f-4fd9-46fa-f740-752f115fa11d"
      },
      "source": [
        "test_generator=train_datagen.flow_from_directory(test_data_dir,target_size=(img_height,img_width),batch_size=1,class_mode='categorical',subset='validation')"
      ],
      "execution_count": 5,
      "outputs": [
        {
          "output_type": "stream",
          "name": "stdout",
          "text": [
            "Found 346 images belonging to 5 classes.\n"
          ]
        }
      ]
    },
    {
      "cell_type": "code",
      "metadata": {
        "colab": {
          "base_uri": "https://localhost:8080/"
        },
        "id": "OqwGB2LvazS0",
        "outputId": "6c01f14f-048f-49a9-c27c-7becdcf9de96"
      },
      "source": [
        "x,y=test_generator.next()\n",
        "x.shape"
      ],
      "execution_count": 6,
      "outputs": [
        {
          "output_type": "execute_result",
          "data": {
            "text/plain": [
              "(1, 224, 224, 3)"
            ]
          },
          "metadata": {},
          "execution_count": 6
        }
      ]
    },
    {
      "cell_type": "code",
      "metadata": {
        "colab": {
          "base_uri": "https://localhost:8080/"
        },
        "id": "vvONnv6Za2k4",
        "outputId": "841bc5ea-357c-414a-825c-134b9910698e"
      },
      "source": [
        "base_model=ResNet50(include_top=False,weights='imagenet')\n",
        "x=base_model.output\n",
        "x=GlobalAveragePooling2D()(x)\n",
        "x=Dense(1024,activation='relu')(x)\n",
        "predictions= Dense(train_generator.num_classes,activation='softmax')(x)\n",
        "model = Model(inputs=base_model.input,outputs=predictions)\n",
        "\n",
        "for layer in base_model.layers:\n",
        "  layer.trainable=False\n"
      ],
      "execution_count": 7,
      "outputs": [
        {
          "output_type": "stream",
          "name": "stdout",
          "text": [
            "Downloading data from https://storage.googleapis.com/tensorflow/keras-applications/resnet/resnet50_weights_tf_dim_ordering_tf_kernels_notop.h5\n",
            "94773248/94765736 [==============================] - 1s 0us/step\n",
            "94781440/94765736 [==============================] - 1s 0us/step\n"
          ]
        }
      ]
    },
    {
      "cell_type": "code",
      "metadata": {
        "id": "fvftIN5ya7JA"
      },
      "source": [
        "model.compile(optimizer='adam',loss='categorical_crossentropy',metrics=['accuracy'])"
      ],
      "execution_count": 8,
      "outputs": []
    },
    {
      "cell_type": "code",
      "metadata": {
        "colab": {
          "base_uri": "https://localhost:8080/"
        },
        "id": "b5KB2YlAa-7R",
        "outputId": "f562805a-5d46-4c20-8739-d8789efff20a"
      },
      "source": [
        "model.fit(train_generator,epochs=10)"
      ],
      "execution_count": 9,
      "outputs": [
        {
          "output_type": "stream",
          "name": "stdout",
          "text": [
            "Epoch 1/10\n",
            "49/49 [==============================] - 332s 7s/step - loss: 0.7391 - accuracy: 0.7741\n",
            "Epoch 2/10\n",
            "49/49 [==============================] - 259s 5s/step - loss: 0.2261 - accuracy: 0.9260\n",
            "Epoch 3/10\n",
            "49/49 [==============================] - 263s 5s/step - loss: 0.1704 - accuracy: 0.9395\n",
            "Epoch 4/10\n",
            "49/49 [==============================] - 261s 5s/step - loss: 0.1075 - accuracy: 0.9659\n",
            "Epoch 5/10\n",
            "49/49 [==============================] - 262s 5s/step - loss: 0.0891 - accuracy: 0.9678\n",
            "Epoch 6/10\n",
            "49/49 [==============================] - 255s 5s/step - loss: 0.0961 - accuracy: 0.9672\n",
            "Epoch 7/10\n",
            "49/49 [==============================] - 255s 5s/step - loss: 0.0522 - accuracy: 0.9839\n",
            "Epoch 8/10\n",
            "49/49 [==============================] - 254s 5s/step - loss: 0.0693 - accuracy: 0.9717\n",
            "Epoch 9/10\n",
            "49/49 [==============================] - 254s 5s/step - loss: 0.0527 - accuracy: 0.9858\n",
            "Epoch 10/10\n",
            "49/49 [==============================] - 254s 5s/step - loss: 0.0250 - accuracy: 0.9923\n"
          ]
        },
        {
          "output_type": "execute_result",
          "data": {
            "text/plain": [
              "<keras.callbacks.History at 0x7f29821373d0>"
            ]
          },
          "metadata": {},
          "execution_count": 9
        }
      ]
    },
    {
      "cell_type": "code",
      "metadata": {
        "colab": {
          "base_uri": "https://localhost:8080/"
        },
        "id": "9CSmaqfXlwKC",
        "outputId": "fb6a1d62-82db-4a33-8872-3deeb9fc5cec"
      },
      "source": [
        "model.save('/content/drive/My Drive/flowers_dataset/saved_model/ResNet50.h5')"
      ],
      "execution_count": 10,
      "outputs": [
        {
          "output_type": "stream",
          "name": "stderr",
          "text": [
            "/usr/local/lib/python3.7/dist-packages/keras/utils/generic_utils.py:497: CustomMaskWarning: Custom mask layers require a config and must override get_config. When loading, the custom mask layer must be passed to the custom_objects argument.\n",
            "  category=CustomMaskWarning)\n"
          ]
        }
      ]
    },
    {
      "cell_type": "code",
      "metadata": {
        "colab": {
          "base_uri": "https://localhost:8080/"
        },
        "id": "IgCQvbudl4fM",
        "outputId": "986e379a-3a87-4b68-e4cc-fd5ce3652f2f"
      },
      "source": [
        "test_loss,test_acc=model.evaluate(test_generator,verbose=2)\n",
        "print(\"\\nTest Accuracy: \",test_acc)"
      ],
      "execution_count": 11,
      "outputs": [
        {
          "output_type": "stream",
          "name": "stdout",
          "text": [
            "346/346 - 78s - loss: 0.4082 - accuracy: 0.9046\n",
            "\n",
            "Test Accuracy:  0.9046242833137512\n"
          ]
        }
      ]
    },
    {
      "cell_type": "code",
      "metadata": {
        "colab": {
          "base_uri": "https://localhost:8080/",
          "height": 296
        },
        "id": "N7Uzf6rsl7_9",
        "outputId": "613ce783-569d-4d38-f357-6e020e67a7aa"
      },
      "source": [
        "import pandas as pd\n",
        "import seaborn as sn\n",
        "import tensorflow as tf\n",
        "model=tf.keras.models.load_model(\"/content/drive/My Drive/flowers_dataset/saved_model/ResNet50.h5\")\n",
        "filenames=test_generator.filenames\n",
        "nb_samples=len(test_generator)\n",
        "y_prob=[]\n",
        "y_act=[]\n",
        "test_generator.reset()\n",
        "for _ in range(nb_samples):\n",
        "  x_test,y_test=test_generator.next()\n",
        "  y_prob.append(model.predict(x_test))\n",
        "  y_act.append(y_test)\n",
        "\n",
        "predicted_class=[list(train_generator.class_indices.keys()) [i.argmax()] for i in y_prob]\n",
        "actual_class=[list(train_generator.class_indices.keys()) [i.argmax()] for i in y_act]\n",
        "\n",
        "out_df=pd.DataFrame(np.vstack([predicted_class,actual_class]).T,columns=['predicted_class','actual_class'])\n",
        "confusion_matrix=pd.crosstab(out_df['actual_class'],out_df['predicted_class'],rownames=['actual'],colnames=['predicted'])\n",
        "sn.heatmap(confusion_matrix,cmap='Blues',annot=True,fmt='d')\n",
        "plt.show()\n",
        "print('Test Accuracy: {} '.format((np.diagonal(confusion_matrix).sum()/confusion_matrix.sum().sum()*100)))"
      ],
      "execution_count": 15,
      "outputs": [
        {
          "output_type": "display_data",
          "data": {
            "image/png": "[encoded data removed]",
            "text/plain": [
              "<Figure size 432x288 with 2 Axes>"
            ]
          },
          "metadata": {
            "needs_background": "light"
          }
        },
        {
          "output_type": "stream",
          "name": "stdout",
          "text": [
            "Test Accuracy: 90.17341040462428 \n"
          ]
        }
      ]
    }
  ]
}